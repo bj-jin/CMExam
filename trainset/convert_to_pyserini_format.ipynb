{
 "cells": [
  {
   "cell_type": "code",
   "execution_count": 1,
   "metadata": {},
   "outputs": [],
   "source": [
    "import json\n",
    "from jinja2 import Template\n",
    "\n",
    "with open(\"../data/train.json\") as f:\n",
    "    train = json.load(f)\n",
    "with open(\"ref_template.j2\") as f:\n",
    "    template = Template(f.read())\n",
    "\n",
    "output = []\n",
    "\n",
    "for i, x in enumerate(train):\n",
    "    doc_id = f\"ref_{i+1}\"\n",
    "    contents = template.render(\n",
    "        question=x[\"Question\"],\n",
    "        options=[option[2:] for option in x[\"Options\"].split(\"\\n\")], # 移除开头的字母和空格\n",
    "        answer=x[\"Answer\"],\n",
    "        explanation=x[\"Explanation\"]\n",
    "    )\n",
    "    output.append({\n",
    "        \"id\": doc_id,\n",
    "        \"contents\": contents\n",
    "    })\n",
    "\n",
    "with open(\"ref/ref.json\", \"w\", encoding=\"utf-8\") as f:\n",
    "    json.dump(output, f, ensure_ascii=False, indent=4)"
   ]
  },
  {
   "cell_type": "code",
   "execution_count": null,
   "metadata": {},
   "outputs": [],
   "source": []
  }
 ],
 "metadata": {
  "kernelspec": {
   "display_name": "sql",
   "language": "python",
   "name": "python3"
  },
  "language_info": {
   "codemirror_mode": {
    "name": "ipython",
    "version": 3
   },
   "file_extension": ".py",
   "mimetype": "text/x-python",
   "name": "python",
   "nbconvert_exporter": "python",
   "pygments_lexer": "ipython3",
   "version": "3.10.15"
  }
 },
 "nbformat": 4,
 "nbformat_minor": 2
}
